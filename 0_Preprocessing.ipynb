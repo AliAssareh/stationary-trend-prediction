{
 "cells": [
  {
   "cell_type": "code",
   "execution_count": 1,
   "id": "3bfdce3e-61b6-4be1-a896-5730178029ff",
   "metadata": {},
   "outputs": [],
   "source": [
    "from Codes.FeatureEngineeringUtils.btc_feature_engineering_utils import preprocess_m1_df, BtcPreprocessor, TargetExtractor, DataMixer"
   ]
  },
  {
   "cell_type": "markdown",
   "id": "53121752-bb7b-4fe1-944e-13bf1862fee0",
   "metadata": {},
   "source": [
    "# Part1) Endogenous data preprocessing and target definition"
   ]
  },
  {
   "cell_type": "markdown",
   "id": "e9a1171c-550d-46d6-8b11-4f8adbd37d8f",
   "metadata": {
    "tags": []
   },
   "source": [
    "## A) Interpolation of the m1 missing values:"
   ]
  },
  {
   "cell_type": "code",
   "execution_count": 2,
   "id": "f4c1171d-cb4a-440d-a9bc-1c628ef1e36a",
   "metadata": {},
   "outputs": [
    {
     "name": "stdout",
     "output_type": "stream",
     "text": [
      "Updating the last 2880 candles\n"
     ]
    }
   ],
   "source": [
    "preprocess_m1_df('Data//Raw//BTCUSDT_1.csv')"
   ]
  },
  {
   "cell_type": "markdown",
   "id": "9af3f43d-2dfc-46c1-b829-bad7cdfd3007",
   "metadata": {
    "tags": []
   },
   "source": [
    "## B) Interpolation of the data and calculation of the indicators:"
   ]
  },
  {
   "cell_type": "markdown",
   "id": "062a8c2a-0de8-4e7d-8b84-f83b424eb7b5",
   "metadata": {},
   "source": [
    "### I) Percentage of change Stationary"
   ]
  },
  {
   "cell_type": "code",
   "execution_count": 3,
   "id": "f676c3b5-4377-43fb-9a37-9bd9947a5c5b",
   "metadata": {},
   "outputs": [],
   "source": [
    "interpolated_df_is_fine = False"
   ]
  },
  {
   "cell_type": "code",
   "execution_count": 4,
   "id": "c75024af-bd25-4312-b3b5-da2dfec74321",
   "metadata": {
    "tags": []
   },
   "outputs": [],
   "source": [
    "if interpolated_df_is_fine:\n",
    "    pass\n",
    "else:\n",
    "    btc_preprocessor = BtcPreprocessor(timeframe=15, colprefix='')\n",
    "    btc_preprocessor.run()"
   ]
  },
  {
   "cell_type": "markdown",
   "id": "8181709e-80b3-4bb6-b774-8ffaa2aaf233",
   "metadata": {
    "tags": []
   },
   "source": [
    "### II) Log difference Stationary"
   ]
  },
  {
   "cell_type": "code",
   "execution_count": 5,
   "id": "d7cba84a-df52-4cfe-83a8-bf4e53326556",
   "metadata": {},
   "outputs": [],
   "source": [
    "if interpolated_df_is_fine:\n",
    "    pass\n",
    "else:\n",
    "    btc_preprocessor = BtcPreprocessor(timeframe=15, colprefix='', method='log')\n",
    "    btc_preprocessor.run()"
   ]
  },
  {
   "cell_type": "markdown",
   "id": "1e20e770-8c82-4266-9a23-28d4fb0b7a46",
   "metadata": {},
   "source": [
    "## C) Defining the targets:"
   ]
  },
  {
   "cell_type": "code",
   "execution_count": 2,
   "id": "6dce46e6-6880-4a9d-8409-06ea1539aecf",
   "metadata": {},
   "outputs": [],
   "source": [
    "targets_are_fine = False"
   ]
  },
  {
   "cell_type": "code",
   "execution_count": 3,
   "id": "223dbb2e-a5a2-479a-a6d7-874420e7c0f3",
   "metadata": {},
   "outputs": [
    {
     "name": "stdout",
     "output_type": "stream",
     "text": [
      "for target3 the number of positive cases is: 112519 : 50.3033337654964%\n",
      "for target3 the number of Negative cases is: 0 : 0.0%\n"
     ]
    }
   ],
   "source": [
    "import numpy as np\n",
    "target_extractor = TargetExtractor(colprefix='')\n",
    "target_extractor.run()"
   ]
  },
  {
   "cell_type": "markdown",
   "id": "948433cd-5b8e-4908-b164-e7eb7cf07d78",
   "metadata": {},
   "source": [
    "# Part3) Mixing the endogenous and the exogenous features and croping the common parts"
   ]
  },
  {
   "cell_type": "markdown",
   "id": "cec3fa12-6b7c-4566-86b4-262a7696afa7",
   "metadata": {
    "tags": []
   },
   "source": [
    "### I) Data preparation for Default target definition method (15m)"
   ]
  },
  {
   "cell_type": "code",
   "execution_count": 4,
   "id": "ec659ca7-0dc7-463b-b479-4e5dc180ba28",
   "metadata": {},
   "outputs": [],
   "source": [
    "data_mixer = DataMixer(df_name='btc_15m', timeframe=15, first_day='2017-08-28 16:00:00', last_day='2024-01-03 00:00:00', log_features=False)\n",
    "data_mixer.run()"
   ]
  },
  {
   "cell_type": "markdown",
   "id": "3098508f-259b-43c1-873e-a5e62b4feb0e",
   "metadata": {},
   "source": [
    "### II) Data preparation for log stationary preprocessing method (15m)"
   ]
  },
  {
   "cell_type": "code",
   "execution_count": 5,
   "id": "8168b7fc-79b1-40a5-a5d2-44d08af71711",
   "metadata": {},
   "outputs": [],
   "source": [
    "data_mixer = DataMixer(df_name='btc_15m', timeframe=15, first_day='2017-08-28 16:00:00', last_day='2024-01-03 00:00:00', log_features=True)\n",
    "data_mixer.run()"
   ]
  },
  {
   "cell_type": "markdown",
   "id": "00a553de-5e96-43bd-8a77-0b63ae5bba84",
   "metadata": {},
   "source": [
    "### III) Data preparation for excluded features definition method (15m)"
   ]
  },
  {
   "cell_type": "code",
   "execution_count": 2,
   "id": "b02be893-b30d-44e7-98ec-3d15c4722abb",
   "metadata": {},
   "outputs": [],
   "source": [
    "data_mixer = DataMixer(df_name='btc_15m', timeframe=15, first_day='2017-08-28 16:00:00', last_day='2024-01-03 00:00:00', exclude_new_features=True)\n",
    "data_mixer.run()"
   ]
  },
  {
   "cell_type": "markdown",
   "id": "085f704c-58c9-4835-8634-03b302675422",
   "metadata": {
    "tags": []
   },
   "source": [
    "#"
   ]
  }
 ],
 "metadata": {
  "kernelspec": {
   "display_name": "Python 3",
   "language": "python",
   "name": "python3"
  },
  "language_info": {
   "codemirror_mode": {
    "name": "ipython",
    "version": 3
   },
   "file_extension": ".py",
   "mimetype": "text/x-python",
   "name": "python",
   "nbconvert_exporter": "python",
   "pygments_lexer": "ipython3",
   "version": "3.8.8"
  }
 },
 "nbformat": 4,
 "nbformat_minor": 5
}
